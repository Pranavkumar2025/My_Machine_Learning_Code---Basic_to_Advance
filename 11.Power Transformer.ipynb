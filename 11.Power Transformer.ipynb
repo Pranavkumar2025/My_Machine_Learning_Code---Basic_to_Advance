{
 "cells": [
  {
   "cell_type": "code",
   "execution_count": null,
   "metadata": {},
   "outputs": [],
   "source": [
    "import numpy as np\n",
    "import pandas as pd\n",
    "import seaborn as sns\n",
    "import matplotlib.pyplot as plt\n",
    "\n",
    "import scipy.stats as stats"
   ]
  },
  {
   "cell_type": "code",
   "execution_count": null,
   "metadata": {},
   "outputs": [],
   "source": [
    "from sklearn.model_selection import train_test_split\n",
    "from sklearn.model_selection import cross_val_score\n",
    "\n",
    "from sklearn.linear_model import LinearRegression\n",
    "\n",
    "from sklearn.metrics import r2_score\n",
    "\n",
    "from sklearn.preprocessing import PowerTransformer"
   ]
  },
  {
   "cell_type": "code",
   "execution_count": null,
   "metadata": {},
   "outputs": [],
   "source": [
    "df = pd.read_csv('concrete_data.csv')"
   ]
  },
  {
   "cell_type": "code",
   "execution_count": null,
   "metadata": {},
   "outputs": [],
   "source": [
    "df.head()"
   ]
  },
  {
   "cell_type": "code",
   "execution_count": null,
   "metadata": {},
   "outputs": [],
   "source": [
    "df.shape"
   ]
  },
  {
   "cell_type": "code",
   "execution_count": null,
   "metadata": {},
   "outputs": [],
   "source": [
    "df.isnull().sum()"
   ]
  },
  {
   "cell_type": "code",
   "execution_count": null,
   "metadata": {},
   "outputs": [],
   "source": [
    "df.describe()"
   ]
  },
  {
   "cell_type": "code",
   "execution_count": null,
   "metadata": {},
   "outputs": [],
   "source": [
    "X = df.drop(columns=['Strength'])\n",
    "y = df.iloc[:,-1]"
   ]
  },
  {
   "cell_type": "code",
   "execution_count": null,
   "metadata": {},
   "outputs": [],
   "source": [
    "X_train, X_test, y_train, y_test = train_test_split(X,y,test_size=0.2,random_state=42)"
   ]
  },
  {
   "cell_type": "code",
   "execution_count": null,
   "metadata": {},
   "outputs": [],
   "source": [
    "# Applying Regression without any transformation\n",
    "lr = LinearRegression()\n",
    "\n",
    "lr.fit(X_train,y_train)\n",
    "\n",
    "y_pred = lr.predict(X_test)\n",
    "\n",
    "r2_score(y_test,y_pred)"
   ]
  },
  {
   "cell_type": "code",
   "execution_count": null,
   "metadata": {},
   "outputs": [],
   "source": [
    "# Cross checking with cross val score\n",
    "lr = LinearRegression()\n",
    "np.mean(cross_val_score(lr,X,y,scoring='r2'))"
   ]
  },
  {
   "cell_type": "code",
   "execution_count": null,
   "metadata": {},
   "outputs": [],
   "source": [
    "# Plotting the distplots without any transformation\n",
    "\n",
    "for col in X_train.columns:\n",
    "    plt.figure(figsize=(14,4))\n",
    "    plt.subplot(121)\n",
    "    sns.distplot(X_train[col])\n",
    "    plt.title(col)\n",
    "\n",
    "    plt.subplot(122)\n",
    "    stats.probplot(X_train[col], dist=\"norm\", plot=plt)\n",
    "    plt.title(col)\n",
    "\n",
    "    plt.show()"
   ]
  },
  {
   "cell_type": "code",
   "execution_count": null,
   "metadata": {},
   "outputs": [],
   "source": [
    "# Applying Box-Cox Transform\n",
    "\n",
    "pt = PowerTransformer(method='box-cox')\n",
    "\n",
    "X_train_transformed = pt.fit_transform(X_train+0.000001)\n",
    "X_test_transformed = pt.transform(X_test+0.000001)\n",
    "\n",
    "pd.DataFrame({'cols':X_train.columns,'box_cox_lambdas':pt.lambdas_})"
   ]
  },
  {
   "cell_type": "code",
   "execution_count": null,
   "metadata": {},
   "outputs": [],
   "source": [
    "# Applying linear regression on transformed data\n",
    "\n",
    "lr = LinearRegression()\n",
    "lr.fit(X_train_transformed,y_train)\n",
    "\n",
    "y_pred2 = lr.predict(X_test_transformed)\n",
    "\n",
    "r2_score(y_test,y_pred2)"
   ]
  },
  {
   "cell_type": "code",
   "execution_count": null,
   "metadata": {},
   "outputs": [],
   "source": [
    "# Using cross val score\n",
    "\n",
    "pt = PowerTransformer(method='box-cox')\n",
    "X_transformed = pt.fit_transform(X+0.0000001)\n",
    "\n",
    "lr = LinearRegression()\n",
    "np.mean(cross_val_score(lr,X_transformed,y,scoring='r2'))"
   ]
  },
  {
   "cell_type": "code",
   "execution_count": null,
   "metadata": {},
   "outputs": [],
   "source": [
    "# Before and after comparision for Box-Cox Plot\n",
    "X_train_transformed = pd.DataFrame(X_train_transformed,columns=X_train.columns)\n",
    "\n",
    "for col in X_train_transformed.columns:\n",
    "    plt.figure(figsize=(14,4))\n",
    "    plt.subplot(121)\n",
    "    sns.distplot(X_train[col])\n",
    "    plt.title(col)\n",
    "\n",
    "    plt.subplot(122)\n",
    "    sns.distplot(X_train_transformed[col])\n",
    "    plt.title(col)\n",
    "\n",
    "    plt.show()"
   ]
  },
  {
   "cell_type": "code",
   "execution_count": null,
   "metadata": {},
   "outputs": [],
   "source": [
    "# Apply Yeo-Johnson transform\n",
    "\n",
    "pt1 = PowerTransformer()\n",
    "\n",
    "X_train_transformed2 = pt1.fit_transform(X_train)\n",
    "X_test_transformed2 = pt1.transform(X_test)\n",
    "\n",
    "lr = LinearRegression()\n",
    "lr.fit(X_train_transformed2,y_train)\n",
    "\n",
    "y_pred3 = lr.predict(X_test_transformed2)\n",
    "\n",
    "print(r2_score(y_test,y_pred3))\n",
    "\n",
    "pd.DataFrame({'cols':X_train.columns,'Yeo_Johnson_lambdas':pt1.lambdas_})\n"
   ]
  },
  {
   "cell_type": "code",
   "execution_count": null,
   "metadata": {},
   "outputs": [],
   "source": [
    "# applying cross val score\n",
    "\n",
    "pt = PowerTransformer()\n",
    "X_transformed2 = pt.fit_transform(X)\n",
    "\n",
    "lr = LinearRegression()\n",
    "np.mean(cross_val_score(lr,X_transformed2,y,scoring='r2'))"
   ]
  },
  {
   "cell_type": "code",
   "execution_count": null,
   "metadata": {},
   "outputs": [],
   "source": [
    "X_train_transformed2 = pd.DataFrame(X_train_transformed2,columns=X_train.columns)"
   ]
  },
  {
   "cell_type": "code",
   "execution_count": null,
   "metadata": {},
   "outputs": [],
   "source": [
    "# Before and after comparision for Yeo-Johnson\n",
    "\n",
    "for col in X_train_transformed2.columns:\n",
    "    plt.figure(figsize=(14,4))\n",
    "    plt.subplot(121)\n",
    "    sns.distplot(X_train[col])\n",
    "    plt.title(col)\n",
    "\n",
    "    plt.subplot(122)\n",
    "    sns.distplot(X_train_transformed2[col])\n",
    "    plt.title(col)\n",
    "\n",
    "    plt.show()"
   ]
  },
  {
   "cell_type": "code",
   "execution_count": null,
   "metadata": {},
   "outputs": [],
   "source": [
    "# Side by side Lambdas\n",
    "pd.DataFrame({'cols':X_train.columns,'box_cox_lambdas':pt.lambdas_,'Yeo_Johnson_lambdas':pt1.lambdas_})"
   ]
  },
  {
   "cell_type": "code",
   "execution_count": null,
   "metadata": {},
   "outputs": [],
   "source": []
  }
 ],
 "metadata": {
  "kernelspec": {
   "display_name": "Python 3",
   "language": "python",
   "name": "python3"
  },
  "language_info": {
   "codemirror_mode": {
    "name": "ipython",
    "version": 3
   },
   "file_extension": ".py",
   "mimetype": "text/x-python",
   "name": "python",
   "nbconvert_exporter": "python",
   "pygments_lexer": "ipython3",
   "version": "3.12.0"
  }
 },
 "nbformat": 4,
 "nbformat_minor": 4
}
